{
 "cells": [
  {
   "cell_type": "markdown",
   "metadata": {},
   "source": [
    "# VacationPy\n",
    "----\n",
    "\n",
    "#### Note\n",
    "* Keep an eye on your API usage. Use https://developers.google.com/maps/reporting/gmp-reporting as reference for how to monitor your usage and billing.\n",
    "\n",
    "* Instructions have been included for each segment. You do not have to follow them exactly, but they are included to help you think through the steps."
   ]
  },
  {
   "cell_type": "code",
   "execution_count": 1,
   "metadata": {},
   "outputs": [],
   "source": [
    "# Dependencies and Setup\n",
    "import matplotlib.pyplot as plt\n",
    "import pandas as pd\n",
    "import numpy as np\n",
    "import requests\n",
    "import gmaps\n",
    "import os\n",
    "\n",
    "# Import API key\n",
    "from api_key import g_key\n"
   ]
  },
  {
   "cell_type": "markdown",
   "metadata": {},
   "source": [
    "### Store Part I results into DataFrame\n",
    "* Load the csv exported in Part I to a DataFrame"
   ]
  },
  {
   "cell_type": "code",
   "execution_count": 2,
   "metadata": {},
   "outputs": [
    {
     "data": {
      "text/html": [
       "<div>\n",
       "<style scoped>\n",
       "    .dataframe tbody tr th:only-of-type {\n",
       "        vertical-align: middle;\n",
       "    }\n",
       "\n",
       "    .dataframe tbody tr th {\n",
       "        vertical-align: top;\n",
       "    }\n",
       "\n",
       "    .dataframe thead th {\n",
       "        text-align: right;\n",
       "    }\n",
       "</style>\n",
       "<table border=\"1\" class=\"dataframe\">\n",
       "  <thead>\n",
       "    <tr style=\"text-align: right;\">\n",
       "      <th></th>\n",
       "      <th>City</th>\n",
       "      <th>Country</th>\n",
       "      <th>Lat</th>\n",
       "      <th>Lng</th>\n",
       "      <th>Max Temp</th>\n",
       "      <th>Humidity</th>\n",
       "      <th>Cloudiness</th>\n",
       "      <th>Wind Speed</th>\n",
       "      <th>Date</th>\n",
       "    </tr>\n",
       "  </thead>\n",
       "  <tbody>\n",
       "    <tr>\n",
       "      <th>0</th>\n",
       "      <td>qaanaaq</td>\n",
       "      <td>GL</td>\n",
       "      <td>77.4840</td>\n",
       "      <td>-69.3632</td>\n",
       "      <td>-25.85</td>\n",
       "      <td>71</td>\n",
       "      <td>0</td>\n",
       "      <td>7.67</td>\n",
       "      <td>1644595939</td>\n",
       "    </tr>\n",
       "    <tr>\n",
       "      <th>1</th>\n",
       "      <td>east london</td>\n",
       "      <td>ZA</td>\n",
       "      <td>-33.0153</td>\n",
       "      <td>27.9116</td>\n",
       "      <td>76.01</td>\n",
       "      <td>73</td>\n",
       "      <td>74</td>\n",
       "      <td>7.05</td>\n",
       "      <td>1644595939</td>\n",
       "    </tr>\n",
       "    <tr>\n",
       "      <th>2</th>\n",
       "      <td>new norfolk</td>\n",
       "      <td>AU</td>\n",
       "      <td>-42.7826</td>\n",
       "      <td>147.0587</td>\n",
       "      <td>51.71</td>\n",
       "      <td>61</td>\n",
       "      <td>0</td>\n",
       "      <td>2.42</td>\n",
       "      <td>1644595940</td>\n",
       "    </tr>\n",
       "    <tr>\n",
       "      <th>3</th>\n",
       "      <td>snezhnogorsk</td>\n",
       "      <td>RU</td>\n",
       "      <td>69.1933</td>\n",
       "      <td>33.2531</td>\n",
       "      <td>22.78</td>\n",
       "      <td>98</td>\n",
       "      <td>77</td>\n",
       "      <td>11.25</td>\n",
       "      <td>1644595940</td>\n",
       "    </tr>\n",
       "    <tr>\n",
       "      <th>4</th>\n",
       "      <td>rikitea</td>\n",
       "      <td>PF</td>\n",
       "      <td>-23.1203</td>\n",
       "      <td>-134.9692</td>\n",
       "      <td>79.00</td>\n",
       "      <td>72</td>\n",
       "      <td>2</td>\n",
       "      <td>18.57</td>\n",
       "      <td>1644595940</td>\n",
       "    </tr>\n",
       "    <tr>\n",
       "      <th>...</th>\n",
       "      <td>...</td>\n",
       "      <td>...</td>\n",
       "      <td>...</td>\n",
       "      <td>...</td>\n",
       "      <td>...</td>\n",
       "      <td>...</td>\n",
       "      <td>...</td>\n",
       "      <td>...</td>\n",
       "      <td>...</td>\n",
       "    </tr>\n",
       "    <tr>\n",
       "      <th>557</th>\n",
       "      <td>usinsk</td>\n",
       "      <td>RU</td>\n",
       "      <td>65.9939</td>\n",
       "      <td>57.5281</td>\n",
       "      <td>13.64</td>\n",
       "      <td>84</td>\n",
       "      <td>100</td>\n",
       "      <td>17.52</td>\n",
       "      <td>1644596096</td>\n",
       "    </tr>\n",
       "    <tr>\n",
       "      <th>558</th>\n",
       "      <td>santa ana</td>\n",
       "      <td>US</td>\n",
       "      <td>33.7456</td>\n",
       "      <td>-117.8678</td>\n",
       "      <td>75.15</td>\n",
       "      <td>42</td>\n",
       "      <td>0</td>\n",
       "      <td>3.44</td>\n",
       "      <td>1644596036</td>\n",
       "    </tr>\n",
       "    <tr>\n",
       "      <th>559</th>\n",
       "      <td>santa maria</td>\n",
       "      <td>BR</td>\n",
       "      <td>-29.6842</td>\n",
       "      <td>-53.8069</td>\n",
       "      <td>94.42</td>\n",
       "      <td>29</td>\n",
       "      <td>47</td>\n",
       "      <td>2.82</td>\n",
       "      <td>1644596097</td>\n",
       "    </tr>\n",
       "    <tr>\n",
       "      <th>560</th>\n",
       "      <td>kuusamo</td>\n",
       "      <td>FI</td>\n",
       "      <td>65.9667</td>\n",
       "      <td>29.1833</td>\n",
       "      <td>15.84</td>\n",
       "      <td>86</td>\n",
       "      <td>40</td>\n",
       "      <td>6.91</td>\n",
       "      <td>1644596097</td>\n",
       "    </tr>\n",
       "    <tr>\n",
       "      <th>561</th>\n",
       "      <td>goundam</td>\n",
       "      <td>ML</td>\n",
       "      <td>16.4145</td>\n",
       "      <td>-3.6708</td>\n",
       "      <td>85.46</td>\n",
       "      <td>8</td>\n",
       "      <td>1</td>\n",
       "      <td>12.41</td>\n",
       "      <td>1644596097</td>\n",
       "    </tr>\n",
       "  </tbody>\n",
       "</table>\n",
       "<p>562 rows × 9 columns</p>\n",
       "</div>"
      ],
      "text/plain": [
       "             City Country      Lat       Lng  Max Temp  Humidity  Cloudiness  \\\n",
       "0         qaanaaq      GL  77.4840  -69.3632    -25.85        71           0   \n",
       "1     east london      ZA -33.0153   27.9116     76.01        73          74   \n",
       "2     new norfolk      AU -42.7826  147.0587     51.71        61           0   \n",
       "3    snezhnogorsk      RU  69.1933   33.2531     22.78        98          77   \n",
       "4         rikitea      PF -23.1203 -134.9692     79.00        72           2   \n",
       "..            ...     ...      ...       ...       ...       ...         ...   \n",
       "557        usinsk      RU  65.9939   57.5281     13.64        84         100   \n",
       "558     santa ana      US  33.7456 -117.8678     75.15        42           0   \n",
       "559   santa maria      BR -29.6842  -53.8069     94.42        29          47   \n",
       "560       kuusamo      FI  65.9667   29.1833     15.84        86          40   \n",
       "561       goundam      ML  16.4145   -3.6708     85.46         8           1   \n",
       "\n",
       "     Wind Speed        Date  \n",
       "0          7.67  1644595939  \n",
       "1          7.05  1644595939  \n",
       "2          2.42  1644595940  \n",
       "3         11.25  1644595940  \n",
       "4         18.57  1644595940  \n",
       "..          ...         ...  \n",
       "557       17.52  1644596096  \n",
       "558        3.44  1644596036  \n",
       "559        2.82  1644596097  \n",
       "560        6.91  1644596097  \n",
       "561       12.41  1644596097  \n",
       "\n",
       "[562 rows x 9 columns]"
      ]
     },
     "execution_count": 2,
     "metadata": {},
     "output_type": "execute_result"
    }
   ],
   "source": [
    "file_to_load = \"../output_data/cities.csv\"\n",
    "\n",
    "cities_data = pd.read_csv(file_to_load)\n",
    "cities_data"
   ]
  },
  {
   "cell_type": "markdown",
   "metadata": {},
   "source": [
    "### Humidity Heatmap\n",
    "* Configure gmaps.\n",
    "* Use the Lat and Lng as locations and Humidity as the weight.\n",
    "* Add Heatmap layer to map."
   ]
  },
  {
   "cell_type": "code",
   "execution_count": 3,
   "metadata": {},
   "outputs": [],
   "source": [
    "gmaps.configure(api_key=g_key)"
   ]
  },
  {
   "cell_type": "code",
   "execution_count": 5,
   "metadata": {},
   "outputs": [
    {
     "data": {
      "application/vnd.jupyter.widget-view+json": {
       "model_id": "535844de67d14277b91acd4e172942bb",
       "version_major": 2,
       "version_minor": 0
      },
      "text/plain": [
       "Figure(layout=FigureLayout(height='420px'))"
      ]
     },
     "metadata": {},
     "output_type": "display_data"
    }
   ],
   "source": [
    "location = cities_data[[\"Lat\", \"Lng\"]]\n",
    "humid = cities_data[\"Humidity\"]\n",
    "fig = gmaps.figure()\n",
    "\n",
    "# figure_layout = {\n",
    "#     'width': '400px',\n",
    "#     'height': '300px',\n",
    "#     'border': '1px solid black',\n",
    "#     'padding': '1px',\n",
    "#     'margin': '0 auto 0 auto'\n",
    "# }\n",
    "# fig = gmaps.figure(layout=figure_layout)\n",
    "\n",
    "# Create heat layer\n",
    "heat_layer = gmaps.heatmap_layer(location, weights=humid, \n",
    "                                 dissipating=False, max_intensity=100,\n",
    "                                 point_radius=2)\n",
    "# Add layer\n",
    "fig.add_layer(heat_layer)\n",
    "#plt.savefig(\"../output_data/lat_vs_wind_speed.png\")\n",
    "# Display figure\n",
    "fig"
   ]
  },
  {
   "cell_type": "markdown",
   "metadata": {},
   "source": [
    "### Create new DataFrame fitting weather criteria\n",
    "* Narrow down the cities to fit weather conditions.\n",
    "* Drop any rows will null values."
   ]
  },
  {
   "cell_type": "code",
   "execution_count": 7,
   "metadata": {
    "scrolled": true
   },
   "outputs": [
    {
     "data": {
      "text/html": [
       "<div>\n",
       "<style scoped>\n",
       "    .dataframe tbody tr th:only-of-type {\n",
       "        vertical-align: middle;\n",
       "    }\n",
       "\n",
       "    .dataframe tbody tr th {\n",
       "        vertical-align: top;\n",
       "    }\n",
       "\n",
       "    .dataframe thead th {\n",
       "        text-align: right;\n",
       "    }\n",
       "</style>\n",
       "<table border=\"1\" class=\"dataframe\">\n",
       "  <thead>\n",
       "    <tr style=\"text-align: right;\">\n",
       "      <th></th>\n",
       "      <th>City</th>\n",
       "      <th>Country</th>\n",
       "      <th>Lat</th>\n",
       "      <th>Lng</th>\n",
       "      <th>Max Temp</th>\n",
       "      <th>Humidity</th>\n",
       "      <th>Cloudiness</th>\n",
       "      <th>Wind Speed</th>\n",
       "      <th>Date</th>\n",
       "    </tr>\n",
       "  </thead>\n",
       "  <tbody>\n",
       "    <tr>\n",
       "      <th>77</th>\n",
       "      <td>bredasdorp</td>\n",
       "      <td>ZA</td>\n",
       "      <td>-34.5322</td>\n",
       "      <td>20.0403</td>\n",
       "      <td>75.27</td>\n",
       "      <td>58</td>\n",
       "      <td>0</td>\n",
       "      <td>9.66</td>\n",
       "      <td>1644595961</td>\n",
       "    </tr>\n",
       "    <tr>\n",
       "      <th>81</th>\n",
       "      <td>castro</td>\n",
       "      <td>BR</td>\n",
       "      <td>-24.7911</td>\n",
       "      <td>-50.0119</td>\n",
       "      <td>78.12</td>\n",
       "      <td>46</td>\n",
       "      <td>0</td>\n",
       "      <td>5.21</td>\n",
       "      <td>1644595962</td>\n",
       "    </tr>\n",
       "    <tr>\n",
       "      <th>426</th>\n",
       "      <td>port hueneme</td>\n",
       "      <td>US</td>\n",
       "      <td>34.1478</td>\n",
       "      <td>-119.1951</td>\n",
       "      <td>74.95</td>\n",
       "      <td>33</td>\n",
       "      <td>0</td>\n",
       "      <td>9.22</td>\n",
       "      <td>1644596058</td>\n",
       "    </tr>\n",
       "    <tr>\n",
       "      <th>458</th>\n",
       "      <td>lima</td>\n",
       "      <td>PE</td>\n",
       "      <td>-12.0432</td>\n",
       "      <td>-77.0282</td>\n",
       "      <td>76.39</td>\n",
       "      <td>78</td>\n",
       "      <td>0</td>\n",
       "      <td>4.61</td>\n",
       "      <td>1644595876</td>\n",
       "    </tr>\n",
       "    <tr>\n",
       "      <th>547</th>\n",
       "      <td>la palma</td>\n",
       "      <td>US</td>\n",
       "      <td>33.8464</td>\n",
       "      <td>-118.0467</td>\n",
       "      <td>75.42</td>\n",
       "      <td>51</td>\n",
       "      <td>0</td>\n",
       "      <td>1.01</td>\n",
       "      <td>1644596094</td>\n",
       "    </tr>\n",
       "    <tr>\n",
       "      <th>558</th>\n",
       "      <td>santa ana</td>\n",
       "      <td>US</td>\n",
       "      <td>33.7456</td>\n",
       "      <td>-117.8678</td>\n",
       "      <td>75.15</td>\n",
       "      <td>42</td>\n",
       "      <td>0</td>\n",
       "      <td>3.44</td>\n",
       "      <td>1644596036</td>\n",
       "    </tr>\n",
       "  </tbody>\n",
       "</table>\n",
       "</div>"
      ],
      "text/plain": [
       "             City Country      Lat       Lng  Max Temp  Humidity  Cloudiness  \\\n",
       "77     bredasdorp      ZA -34.5322   20.0403     75.27        58           0   \n",
       "81         castro      BR -24.7911  -50.0119     78.12        46           0   \n",
       "426  port hueneme      US  34.1478 -119.1951     74.95        33           0   \n",
       "458          lima      PE -12.0432  -77.0282     76.39        78           0   \n",
       "547      la palma      US  33.8464 -118.0467     75.42        51           0   \n",
       "558     santa ana      US  33.7456 -117.8678     75.15        42           0   \n",
       "\n",
       "     Wind Speed        Date  \n",
       "77         9.66  1644595961  \n",
       "81         5.21  1644595962  \n",
       "426        9.22  1644596058  \n",
       "458        4.61  1644595876  \n",
       "547        1.01  1644596094  \n",
       "558        3.44  1644596036  "
      ]
     },
     "execution_count": 7,
     "metadata": {},
     "output_type": "execute_result"
    }
   ],
   "source": [
    "criteria_df1 = cities_data.loc[cities_data[\"Max Temp\"] >74, :]\n",
    "criteria_df2 = criteria_df1.loc[criteria_df1[\"Max Temp\"] <80, :]\n",
    "criteria_df3 = criteria_df2.loc[criteria_df2[\"Wind Speed\"] <10, :]\n",
    "criteria_df4 = criteria_df3.loc[criteria_df3[\"Cloudiness\"] ==0, :]\n",
    "criteria_df5 = criteria_df4.loc[criteria_df4[\"Humidity\"] >20, :]\n",
    "criteria_df5"
   ]
  },
  {
   "cell_type": "code",
   "execution_count": 8,
   "metadata": {},
   "outputs": [
    {
     "data": {
      "text/html": [
       "<div>\n",
       "<style scoped>\n",
       "    .dataframe tbody tr th:only-of-type {\n",
       "        vertical-align: middle;\n",
       "    }\n",
       "\n",
       "    .dataframe tbody tr th {\n",
       "        vertical-align: top;\n",
       "    }\n",
       "\n",
       "    .dataframe thead th {\n",
       "        text-align: right;\n",
       "    }\n",
       "</style>\n",
       "<table border=\"1\" class=\"dataframe\">\n",
       "  <thead>\n",
       "    <tr style=\"text-align: right;\">\n",
       "      <th></th>\n",
       "      <th>Lat</th>\n",
       "      <th>Lng</th>\n",
       "    </tr>\n",
       "  </thead>\n",
       "  <tbody>\n",
       "    <tr>\n",
       "      <th>77</th>\n",
       "      <td>-34.5322</td>\n",
       "      <td>20.0403</td>\n",
       "    </tr>\n",
       "    <tr>\n",
       "      <th>81</th>\n",
       "      <td>-24.7911</td>\n",
       "      <td>-50.0119</td>\n",
       "    </tr>\n",
       "    <tr>\n",
       "      <th>426</th>\n",
       "      <td>34.1478</td>\n",
       "      <td>-119.1951</td>\n",
       "    </tr>\n",
       "    <tr>\n",
       "      <th>458</th>\n",
       "      <td>-12.0432</td>\n",
       "      <td>-77.0282</td>\n",
       "    </tr>\n",
       "    <tr>\n",
       "      <th>547</th>\n",
       "      <td>33.8464</td>\n",
       "      <td>-118.0467</td>\n",
       "    </tr>\n",
       "    <tr>\n",
       "      <th>558</th>\n",
       "      <td>33.7456</td>\n",
       "      <td>-117.8678</td>\n",
       "    </tr>\n",
       "  </tbody>\n",
       "</table>\n",
       "</div>"
      ],
      "text/plain": [
       "         Lat       Lng\n",
       "77  -34.5322   20.0403\n",
       "81  -24.7911  -50.0119\n",
       "426  34.1478 -119.1951\n",
       "458 -12.0432  -77.0282\n",
       "547  33.8464 -118.0467\n",
       "558  33.7456 -117.8678"
      ]
     },
     "execution_count": 8,
     "metadata": {},
     "output_type": "execute_result"
    }
   ],
   "source": [
    "loc= criteria_df5[['Lat','Lng']]\n",
    "loc"
   ]
  },
  {
   "cell_type": "markdown",
   "metadata": {},
   "source": [
    "### Hotel Map\n",
    "* Store into variable named `hotel_df`.\n",
    "* Add a \"Hotel Name\" column to the DataFrame.\n",
    "* Set parameters to search for hotels with 5000 meters.\n",
    "* Hit the Google Places API for each city's coordinates.\n",
    "* Store the first Hotel result into the DataFrame.\n",
    "* Plot markers on top of the heatmap."
   ]
  },
  {
   "cell_type": "code",
   "execution_count": 11,
   "metadata": {},
   "outputs": [],
   "source": [
    "hotel_df=criteria_df5"
   ]
  },
  {
   "cell_type": "code",
   "execution_count": 12,
   "metadata": {
    "scrolled": true
   },
   "outputs": [
    {
     "data": {
      "text/plain": [
       "'Victoria Hotel - Bredasdorp'"
      ]
     },
     "execution_count": 12,
     "metadata": {},
     "output_type": "execute_result"
    }
   ],
   "source": [
    "base_url = \"https://maps.googleapis.com/maps/api/place/nearbysearch/json\"\n",
    "params = {  \n",
    "    \"location\": '-34.5322,20.0403',\n",
    "    \"radius\": 5000,\n",
    "    \"type\": \"Hotel\",\n",
    "    \"keyword\": \"Hotel\",\n",
    "    \"key\": g_key,\n",
    "}  \n",
    "hotel_ad1= requests.get(base_url, params=params)    \n",
    "hotel_ad1= hotel_ad1.json()\n",
    "loc1= hotel_ad1['results'][0]['name']\n",
    "loc1"
   ]
  },
  {
   "cell_type": "code",
   "execution_count": 13,
   "metadata": {},
   "outputs": [
    {
     "data": {
      "text/plain": [
       "'Central Palace Hotel'"
      ]
     },
     "execution_count": 13,
     "metadata": {},
     "output_type": "execute_result"
    }
   ],
   "source": [
    "base_url = \"https://maps.googleapis.com/maps/api/place/nearbysearch/json\"\n",
    "params = {  \n",
    "    \"location\": '-24.7911,-50.0119',\n",
    "    \"radius\": 5000,\n",
    "    \"type\": \"hotel\",\n",
    "    \"keyword\": \"Hotel\",\n",
    "    \"key\": g_key,\n",
    "}\n",
    "    \n",
    "hotel_ad2= requests.get(base_url, params=params)    \n",
    "hotel_ad2= hotel_ad2.json()\n",
    "loc2 = hotel_ad2['results'][0]['name']\n",
    "loc2"
   ]
  },
  {
   "cell_type": "code",
   "execution_count": 14,
   "metadata": {},
   "outputs": [
    {
     "data": {
      "text/plain": [
       "'Holiday Inn Express Port Hueneme, an IHG Hotel'"
      ]
     },
     "execution_count": 14,
     "metadata": {},
     "output_type": "execute_result"
    }
   ],
   "source": [
    "base_url = \"https://maps.googleapis.com/maps/api/place/nearbysearch/json\"\n",
    "params = {  \n",
    "    \"location\": '34.1478,-119.1951',\n",
    "    \"radius\": 5000,\n",
    "    \"type\": \"hotel\",\n",
    "    \"keyword\": \"Hotel\",\n",
    "    \"key\": g_key,\n",
    "}\n",
    "hotel_ad3= requests.get(base_url, params=params)    \n",
    "hotel_ad3= hotel_ad3.json()\n",
    "loc3 = hotel_ad3['results'][0]['name']\n",
    "loc3"
   ]
  },
  {
   "cell_type": "code",
   "execution_count": 15,
   "metadata": {},
   "outputs": [
    {
     "data": {
      "text/plain": [
       "'Sheraton Lima Hotel & Convention Center'"
      ]
     },
     "execution_count": 15,
     "metadata": {},
     "output_type": "execute_result"
    }
   ],
   "source": [
    "base_url = \"https://maps.googleapis.com/maps/api/place/nearbysearch/json\"\n",
    "params = {  \n",
    "    \"location\": '-12.0432,-77.0282',\n",
    "    \"radius\": 5000,\n",
    "    \"type\": \"hotel\",\n",
    "    \"keyword\": \"Hotel\",\n",
    "    \"key\": g_key,\n",
    "}\n",
    "hotel_ad4= requests.get(base_url, params=params)    \n",
    "hotel_ad4= hotel_ad4.json()\n",
    "loc4 = hotel_ad4['results'][0]['name']\n",
    "loc4"
   ]
  },
  {
   "cell_type": "code",
   "execution_count": 16,
   "metadata": {},
   "outputs": [
    {
     "data": {
      "text/plain": [
       "'Days Inn by Wyndham Buena Park'"
      ]
     },
     "execution_count": 16,
     "metadata": {},
     "output_type": "execute_result"
    }
   ],
   "source": [
    "base_url = \"https://maps.googleapis.com/maps/api/place/nearbysearch/json\"\n",
    "params = {  \n",
    "    \"location\": '33.8464,-118.0467',\n",
    "    \"radius\": 5000,\n",
    "    \"type\": \"hotel\",\n",
    "    \"keyword\": \"Hotel\",\n",
    "    \"key\": g_key,\n",
    "}\n",
    "hotel_ad5= requests.get(base_url, params=params)    \n",
    "hotel_ad5= hotel_ad5.json()\n",
    "loc5 = hotel_ad5['results'][0]['name']\n",
    "loc5"
   ]
  },
  {
   "cell_type": "code",
   "execution_count": 17,
   "metadata": {},
   "outputs": [
    {
     "data": {
      "text/plain": [
       "'Comfort Inn & Suites Orange County John Wayne Airport'"
      ]
     },
     "execution_count": 17,
     "metadata": {},
     "output_type": "execute_result"
    }
   ],
   "source": [
    "base_url = \"https://maps.googleapis.com/maps/api/place/nearbysearch/json\"\n",
    "params = {  \n",
    "    \"location\": '33.7456,-117.8678',\n",
    "    \"radius\": 5000,\n",
    "    \"type\": \"hotel\",\n",
    "    \"keyword\": \"Hotel\",\n",
    "    \"key\": g_key,\n",
    "}    \n",
    "hotel_ad6= requests.get(base_url, params=params)    \n",
    "hotel_ad6= hotel_ad6.json()\n",
    "loc6 = hotel_ad6['results'][0]['name']\n",
    "loc6"
   ]
  },
  {
   "cell_type": "code",
   "execution_count": 18,
   "metadata": {},
   "outputs": [
    {
     "data": {
      "text/plain": [
       "['Victoria Hotel - Bredasdorp',\n",
       " 'Central Palace Hotel',\n",
       " 'Holiday Inn Express Port Hueneme, an IHG Hotel',\n",
       " 'Sheraton Lima Hotel & Convention Center',\n",
       " 'Days Inn by Wyndham Buena Park',\n",
       " 'Comfort Inn & Suites Orange County John Wayne Airport']"
      ]
     },
     "execution_count": 18,
     "metadata": {},
     "output_type": "execute_result"
    }
   ],
   "source": [
    "hotels= [loc1,loc2,loc3,loc4,loc5,loc6]\n",
    "hotel_names= []\n",
    "for hotel in hotels:\n",
    "    hotel_names.append(hotel)\n",
    "hotel_names    "
   ]
  },
  {
   "cell_type": "code",
   "execution_count": 19,
   "metadata": {},
   "outputs": [
    {
     "data": {
      "text/html": [
       "<div>\n",
       "<style scoped>\n",
       "    .dataframe tbody tr th:only-of-type {\n",
       "        vertical-align: middle;\n",
       "    }\n",
       "\n",
       "    .dataframe tbody tr th {\n",
       "        vertical-align: top;\n",
       "    }\n",
       "\n",
       "    .dataframe thead th {\n",
       "        text-align: right;\n",
       "    }\n",
       "</style>\n",
       "<table border=\"1\" class=\"dataframe\">\n",
       "  <thead>\n",
       "    <tr style=\"text-align: right;\">\n",
       "      <th></th>\n",
       "      <th>City</th>\n",
       "      <th>Country</th>\n",
       "      <th>Lat</th>\n",
       "      <th>Lng</th>\n",
       "      <th>Max Temp</th>\n",
       "      <th>Humidity</th>\n",
       "      <th>Cloudiness</th>\n",
       "      <th>Wind Speed</th>\n",
       "      <th>Date</th>\n",
       "      <th>Hotel Name</th>\n",
       "    </tr>\n",
       "  </thead>\n",
       "  <tbody>\n",
       "    <tr>\n",
       "      <th>77</th>\n",
       "      <td>bredasdorp</td>\n",
       "      <td>ZA</td>\n",
       "      <td>-34.5322</td>\n",
       "      <td>20.0403</td>\n",
       "      <td>75.27</td>\n",
       "      <td>58</td>\n",
       "      <td>0</td>\n",
       "      <td>9.66</td>\n",
       "      <td>1644595961</td>\n",
       "      <td>Victoria Hotel - Bredasdorp</td>\n",
       "    </tr>\n",
       "    <tr>\n",
       "      <th>81</th>\n",
       "      <td>castro</td>\n",
       "      <td>BR</td>\n",
       "      <td>-24.7911</td>\n",
       "      <td>-50.0119</td>\n",
       "      <td>78.12</td>\n",
       "      <td>46</td>\n",
       "      <td>0</td>\n",
       "      <td>5.21</td>\n",
       "      <td>1644595962</td>\n",
       "      <td>Central Palace Hotel</td>\n",
       "    </tr>\n",
       "    <tr>\n",
       "      <th>426</th>\n",
       "      <td>port hueneme</td>\n",
       "      <td>US</td>\n",
       "      <td>34.1478</td>\n",
       "      <td>-119.1951</td>\n",
       "      <td>74.95</td>\n",
       "      <td>33</td>\n",
       "      <td>0</td>\n",
       "      <td>9.22</td>\n",
       "      <td>1644596058</td>\n",
       "      <td>Holiday Inn Express Port Hueneme, an IHG Hotel</td>\n",
       "    </tr>\n",
       "    <tr>\n",
       "      <th>458</th>\n",
       "      <td>lima</td>\n",
       "      <td>PE</td>\n",
       "      <td>-12.0432</td>\n",
       "      <td>-77.0282</td>\n",
       "      <td>76.39</td>\n",
       "      <td>78</td>\n",
       "      <td>0</td>\n",
       "      <td>4.61</td>\n",
       "      <td>1644595876</td>\n",
       "      <td>Sheraton Lima Hotel &amp; Convention Center</td>\n",
       "    </tr>\n",
       "    <tr>\n",
       "      <th>547</th>\n",
       "      <td>la palma</td>\n",
       "      <td>US</td>\n",
       "      <td>33.8464</td>\n",
       "      <td>-118.0467</td>\n",
       "      <td>75.42</td>\n",
       "      <td>51</td>\n",
       "      <td>0</td>\n",
       "      <td>1.01</td>\n",
       "      <td>1644596094</td>\n",
       "      <td>Days Inn by Wyndham Buena Park</td>\n",
       "    </tr>\n",
       "    <tr>\n",
       "      <th>558</th>\n",
       "      <td>santa ana</td>\n",
       "      <td>US</td>\n",
       "      <td>33.7456</td>\n",
       "      <td>-117.8678</td>\n",
       "      <td>75.15</td>\n",
       "      <td>42</td>\n",
       "      <td>0</td>\n",
       "      <td>3.44</td>\n",
       "      <td>1644596036</td>\n",
       "      <td>Comfort Inn &amp; Suites Orange County John Wayne ...</td>\n",
       "    </tr>\n",
       "  </tbody>\n",
       "</table>\n",
       "</div>"
      ],
      "text/plain": [
       "             City Country      Lat       Lng  Max Temp  Humidity  Cloudiness  \\\n",
       "77     bredasdorp      ZA -34.5322   20.0403     75.27        58           0   \n",
       "81         castro      BR -24.7911  -50.0119     78.12        46           0   \n",
       "426  port hueneme      US  34.1478 -119.1951     74.95        33           0   \n",
       "458          lima      PE -12.0432  -77.0282     76.39        78           0   \n",
       "547      la palma      US  33.8464 -118.0467     75.42        51           0   \n",
       "558     santa ana      US  33.7456 -117.8678     75.15        42           0   \n",
       "\n",
       "     Wind Speed        Date                                         Hotel Name  \n",
       "77         9.66  1644595961                        Victoria Hotel - Bredasdorp  \n",
       "81         5.21  1644595962                               Central Palace Hotel  \n",
       "426        9.22  1644596058     Holiday Inn Express Port Hueneme, an IHG Hotel  \n",
       "458        4.61  1644595876            Sheraton Lima Hotel & Convention Center  \n",
       "547        1.01  1644596094                     Days Inn by Wyndham Buena Park  \n",
       "558        3.44  1644596036  Comfort Inn & Suites Orange County John Wayne ...  "
      ]
     },
     "execution_count": 19,
     "metadata": {},
     "output_type": "execute_result"
    }
   ],
   "source": [
    "hotel_df[\"Hotel Name\"]= hotel_names\n",
    "hotel_df"
   ]
  },
  {
   "cell_type": "code",
   "execution_count": 20,
   "metadata": {},
   "outputs": [],
   "source": [
    "# NOTE: Do not change any of the code in this cell\n",
    "\n",
    "# Using the template add the hotel marks to the heatmap\n",
    "info_box_template = \"\"\"\n",
    "<dl>\n",
    "<dt>Name</dt><dd>{Hotel Name}</dd>\n",
    "<dt>City</dt><dd>{City}</dd>\n",
    "<dt>Country</dt><dd>{Country}</dd>\n",
    "</dl>\n",
    "\"\"\"\n",
    "# Store the DataFrame Row\n",
    "# NOTE: be sure to update with your DataFrame name\n",
    "hotel_info = [info_box_template.format(**row) for index, row in hotel_df.iterrows()]\n",
    "locations = hotel_df[[\"Lat\", \"Lng\"]]"
   ]
  },
  {
   "cell_type": "code",
   "execution_count": 21,
   "metadata": {},
   "outputs": [
    {
     "data": {
      "application/vnd.jupyter.widget-view+json": {
       "model_id": "535844de67d14277b91acd4e172942bb",
       "version_major": 2,
       "version_minor": 0
      },
      "text/plain": [
       "Figure(layout=FigureLayout(height='420px'))"
      ]
     },
     "metadata": {},
     "output_type": "display_data"
    }
   ],
   "source": [
    "# Add marker layer ontop of heat map\n",
    "markers = gmaps.marker_layer(locations, info_box_content=hotel_info)\n",
    "# Add the layer to the map\n",
    "fig.add_layer(markers)\n",
    "\n",
    "# Display figure\n",
    "fig"
   ]
  },
  {
   "cell_type": "code",
   "execution_count": null,
   "metadata": {},
   "outputs": [],
   "source": []
  }
 ],
 "metadata": {
  "kernelspec": {
   "display_name": "Python 3 (ipykernel)",
   "language": "python",
   "name": "python3"
  },
  "language_info": {
   "codemirror_mode": {
    "name": "ipython",
    "version": 3
   },
   "file_extension": ".py",
   "mimetype": "text/x-python",
   "name": "python",
   "nbconvert_exporter": "python",
   "pygments_lexer": "ipython3",
   "version": "3.9.7"
  },
  "latex_envs": {
   "LaTeX_envs_menu_present": true,
   "autoclose": false,
   "autocomplete": true,
   "bibliofile": "biblio.bib",
   "cite_by": "apalike",
   "current_citInitial": 1,
   "eqLabelWithNumbers": true,
   "eqNumInitial": 1,
   "hotkeys": {
    "equation": "Ctrl-E",
    "itemize": "Ctrl-I"
   },
   "labels_anchors": false,
   "latex_user_defs": false,
   "report_style_numbering": false,
   "user_envs_cfg": false
  }
 },
 "nbformat": 4,
 "nbformat_minor": 4
}
